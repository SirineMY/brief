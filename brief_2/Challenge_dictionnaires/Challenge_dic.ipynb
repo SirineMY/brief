{
 "cells": [
  {
   "cell_type": "code",
   "execution_count": 1,
   "id": "59a30a46-f9a6-49d9-8821-78480deb632b",
   "metadata": {},
   "outputs": [
    {
     "data": {
      "text/plain": [
       "{'Marie': 15,\n",
       " 'Samuel': 17,\n",
       " 'Gaston': 12,\n",
       " 'Fred': 10,\n",
       " 'Mae': 5,\n",
       " 'Julie': 15,\n",
       " 'Zoe': 7,\n",
       " 'Claire': 20,\n",
       " 'Chloe': 8,\n",
       " 'Julien': 14,\n",
       " 'Gael': 9,\n",
       " 'Samia': 15,\n",
       " 'Omar': 11,\n",
       " 'Gabriel': 16,\n",
       " 'Manon': 2}"
      ]
     },
     "execution_count": 1,
     "metadata": {},
     "output_type": "execute_result"
    }
   ],
   "source": [
    "import operator\n",
    "\n",
    "ventes_commerciaux ={\"Marie\":15, \"Samuel\":17,  \"Gaston\":12,  \"Fred\":10, \"Mae\":5,  \"Julie\":15, \"Zoe\":7, \"Claire\":20, \"Chloe\":8, \"Julien\":14,\"Gael\":9, \"Samia\":15, \"Omar\":11, \"Gabriel\":16, \"Manon\": 2}\n",
    "ventes_commerciaux"
   ]
  },
  {
   "cell_type": "code",
   "execution_count": 2,
   "id": "4ce9e352-2fca-4754-a17e-81ee40ea8b33",
   "metadata": {},
   "outputs": [
    {
     "name": "stdout",
     "output_type": "stream",
     "text": [
      "la valeur moyenne des ventes: 11.733333333333333\n"
     ]
    }
   ],
   "source": [
    "c=0\n",
    "i=0\n",
    "for v in ventes_commerciaux.values():\n",
    "    i+=1\n",
    "    c+=v\n",
    "    moy=c/i\n",
    "print(\"la valeur moyenne des ventes: \" + str(moy))\n",
    "    \n"
   ]
  },
  {
   "cell_type": "code",
   "execution_count": 3,
   "id": "89fa0b45-f608-4d1e-b654-c37ee3187b16",
   "metadata": {},
   "outputs": [
    {
     "name": "stdout",
     "output_type": "stream",
     "text": [
      "le nombre total de vendeurs: 15\n"
     ]
    }
   ],
   "source": [
    "print(\"le nombre total de vendeurs: \"+ str(len(ventes_commerciaux)))"
   ]
  },
  {
   "cell_type": "code",
   "execution_count": 4,
   "id": "ace4cfa0-ddae-454c-9ebe-3eccf0673729",
   "metadata": {},
   "outputs": [
    {
     "name": "stdout",
     "output_type": "stream",
     "text": [
      "le nombre de commerciaux ont un nombre de ventes strictement supérieur à la moyenne :8\n"
     ]
    }
   ],
   "source": [
    "x=0\n",
    "for j in ventes_commerciaux.items():\n",
    "    if j[1]>moy :\n",
    "        x+=1\n",
    "print(\"le nombre de commerciaux ont un nombre de ventes strictement supérieur à la moyenne :\"+ str(x))"
   ]
  },
  {
   "cell_type": "code",
   "execution_count": 5,
   "id": "41a526c1-1989-4f92-a092-afcccaa763b3",
   "metadata": {},
   "outputs": [
    {
     "name": "stdout",
     "output_type": "stream",
     "text": [
      "meilleur vendeur: Claire\n"
     ]
    }
   ],
   "source": [
    "max_key = max(ventes_commerciaux, key = ventes_commerciaux.get)\n",
    "print(\"meilleur vendeur: \"+max_key)"
   ]
  },
  {
   "cell_type": "code",
   "execution_count": 6,
   "id": "693291de-ba10-4b61-844d-4ae7b5ddafd9",
   "metadata": {},
   "outputs": [
    {
     "name": "stdout",
     "output_type": "stream",
     "text": [
      "Mae\n",
      "Zoe\n"
     ]
    }
   ],
   "source": [
    "for cle in ventes_commerciaux.keys():\n",
    "    if len(cle)<4 :\n",
    "        print(cle)\n"
   ]
  },
  {
   "cell_type": "code",
   "execution_count": 52,
   "id": "63c57c12-9f7a-4371-8411-6a9fa0489736",
   "metadata": {},
   "outputs": [
    {
     "name": "stdout",
     "output_type": "stream",
     "text": [
      "('Gaston', 12) paire\n",
      "('Fred', 10) paire\n",
      "('Claire', 20) paire\n",
      "('Chloe', 8) paire\n",
      "('Julien', 14) paire\n",
      "('Gabriel', 16) paire\n",
      "('Manon', 2) paire\n"
     ]
    }
   ],
   "source": [
    "\n",
    "for a in ventes_commerciaux.items():\n",
    "    if (a[1]%2)==0:\n",
    "        print(a,\"paire\")\n"
   ]
  },
  {
   "cell_type": "code",
   "execution_count": null,
   "id": "d5d526f7-80eb-475d-b0b9-54bc509e3062",
   "metadata": {},
   "outputs": [],
   "source": []
  }
 ],
 "metadata": {
  "kernelspec": {
   "display_name": "Python 3 (ipykernel)",
   "language": "python",
   "name": "python3"
  },
  "language_info": {
   "codemirror_mode": {
    "name": "ipython",
    "version": 3
   },
   "file_extension": ".py",
   "mimetype": "text/x-python",
   "name": "python",
   "nbconvert_exporter": "python",
   "pygments_lexer": "ipython3",
   "version": "3.9.12"
  }
 },
 "nbformat": 4,
 "nbformat_minor": 5
}
