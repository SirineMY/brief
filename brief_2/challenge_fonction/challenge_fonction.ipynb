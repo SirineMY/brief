{
 "cells": [
  {
   "cell_type": "code",
   "execution_count": 39,
   "id": "c56ccf82-9bed-49a9-89f6-77abbe823013",
   "metadata": {},
   "outputs": [],
   "source": [
    "#création d'une foction pour calculer le moyenne\n",
    "def moyenne(list):\n",
    "    nb=len(list)\n",
    "    x=0\n",
    "    for i in list:\n",
    "        x=x+i\n",
    "    return (print(\"la liste: \" + str(list) +\"\\nla valeur du moyenne: \" + str(x/nb)))\n"
   ]
  },
  {
   "cell_type": "code",
   "execution_count": 37,
   "id": "3178571e-4564-4be7-8594-257b821fcf5e",
   "metadata": {},
   "outputs": [],
   "source": [
    "#création d'une foction pour calculer le medianne\n",
    "def mediane(list):\n",
    "    nb = len(list) // 2\n",
    "    #list.sort()\n",
    "    if not len(list) % 2:\n",
    "        return (list[nb - 1] + list[nb]) / 2.0\n",
    "    return (print(\"la liste: \" + str(list) +\"\\nla valeur du mediane: \" + str(list[nb])))"
   ]
  },
  {
   "cell_type": "code",
   "execution_count": 35,
   "id": "3e87c5f2-c387-48fb-81cd-75cf7ef06dfd",
   "metadata": {},
   "outputs": [],
   "source": [
    "#création d'une foction pour calculer varionce et écart-type\n",
    "def variance(list):\n",
    "    m = sum(list) / len(list)\n",
    "    var_res = sum((xi - m) ** 2 for xi in list) / len(list)\n",
    "    dev= var_res**0.5\n",
    "    return (print(\"la liste: \" + str(list) + \"\\nvariance: \" + str(var_res) + \"\\nécart-type :\" + str(dev)))\n"
   ]
  },
  {
   "cell_type": "code",
   "execution_count": null,
   "id": "841a96fd-4d7a-4a86-b5a5-13ec578fe65f",
   "metadata": {},
   "outputs": [],
   "source": []
  },
  {
   "cell_type": "code",
   "execution_count": null,
   "id": "7d1f8be7-33fb-4fa6-84f9-dd842ce9fd52",
   "metadata": {},
   "outputs": [],
   "source": []
  }
 ],
 "metadata": {
  "kernelspec": {
   "display_name": "Python 3 (ipykernel)",
   "language": "python",
   "name": "python3"
  },
  "language_info": {
   "codemirror_mode": {
    "name": "ipython",
    "version": 3
   },
   "file_extension": ".py",
   "mimetype": "text/x-python",
   "name": "python",
   "nbconvert_exporter": "python",
   "pygments_lexer": "ipython3",
   "version": "3.9.12"
  }
 },
 "nbformat": 4,
 "nbformat_minor": 5
}
