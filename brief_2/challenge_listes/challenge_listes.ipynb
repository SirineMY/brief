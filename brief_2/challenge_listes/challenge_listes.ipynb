{
 "cells": [
  {
   "cell_type": "code",
   "execution_count": 3,
   "id": "52a1d075-bd62-49a8-8b07-269a5a170a28",
   "metadata": {},
   "outputs": [],
   "source": [
    "#création de la liste\n",
    "prix_de_58_maisons=[]\n",
    "prix_de_58_maisons=list(range(125000, 700000, 10087))\n"
   ]
  },
  {
   "cell_type": "code",
   "execution_count": 4,
   "id": "81c56ad5-185d-4af0-8bdf-341e15da08d5",
   "metadata": {},
   "outputs": [
    {
     "name": "stdout",
     "output_type": "stream",
     "text": [
      "Nombre de maisons ont un prix supérieur ou égal à 300 0000 euros:40\n",
      "Nombre de maisons ont un prix compris entre 250 000 et 400 000 euros:15\n",
      "Nombre de maisons ont un prix qui n’est pas supérieur à 600 000 euros:48\n",
      "Nombre de maisons ont un prix inférieur à 150 000 euros ou supérieur à 650000 euros:8\n"
     ]
    }
   ],
   "source": [
    "#filtrer la liste\n",
    "counter1=0\n",
    "counter2=0\n",
    "counter3=0\n",
    "counter4=0\n",
    "\n",
    "for i in prix_de_58_maisons :\n",
    "    if i  >= 300000:\n",
    "        counter1+=1\n",
    "    if 250000<i<400000:\n",
    "        counter2+=1\n",
    "    if i<600000:\n",
    "        counter3+=1\n",
    "    if not 150000<i<650000:\n",
    "        counter4+=1\n",
    "    i+=1\n",
    "print(\"Nombre de maisons ont un prix supérieur ou égal à 300 0000 euros:\"+ str(counter1))    \n",
    "print(\"Nombre de maisons ont un prix compris entre 250 000 et 400 000 euros:\"+ str(counter2))    \n",
    "print(\"Nombre de maisons ont un prix qui n’est pas supérieur à 600 000 euros:\"+ str(counter3))    \n",
    "print(\"Nombre de maisons ont un prix inférieur à 150 000 euros ou supérieur à 650000 euros:\"+str(counter4))    \n"
   ]
  },
  {
   "cell_type": "code",
   "execution_count": null,
   "id": "e2c587c6-48f2-4cb8-8b75-76fa8fe67e69",
   "metadata": {},
   "outputs": [],
   "source": []
  }
 ],
 "metadata": {
  "kernelspec": {
   "display_name": "Python 3 (ipykernel)",
   "language": "python",
   "name": "python3"
  },
  "language_info": {
   "codemirror_mode": {
    "name": "ipython",
    "version": 3
   },
   "file_extension": ".py",
   "mimetype": "text/x-python",
   "name": "python",
   "nbconvert_exporter": "python",
   "pygments_lexer": "ipython3",
   "version": "3.9.12"
  }
 },
 "nbformat": 4,
 "nbformat_minor": 5
}
